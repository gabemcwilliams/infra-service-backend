{
 "cells": [
  {
   "cell_type": "code",
   "id": "initial_id",
   "metadata": {
    "collapsed": true
   },
   "source": [
    "import pandas as pd\n",
    "import numpy as np\n",
    "import re"
   ],
   "outputs": [],
   "execution_count": null
  },
  {
   "metadata": {},
   "cell_type": "code",
   "source": [
    "from kafka import KafkaProducer\n",
    "from kafka.admin import KafkaAdminClient, NewTopic\n",
    "from kafka.errors import KafkaError\n",
    "\n",
    "# Initialize the KafkaAdminClient\n",
    "admin_client = KafkaAdminClient(\n",
    "    bootstrap_servers=\"kafka.example.internal:9092\",\n",
    "    client_id=\"topic2\"\n",
    ")\n",
    "\n",
    "# Define the new topic\n",
    "topic = NewTopic(\n",
    "    name=\"my_new_topic\",\n",
    "    num_partitions=3,\n",
    "    replication_factor=1\n",
    ")\n",
    "\n",
    "try:\n",
    "    # Attempt to create the topic\n",
    "    admin_client.create_topics(new_topics=[topic], validate_only=False)\n",
    "    print(\"Topic created successfully.\")\n",
    "except KafkaError as e:\n",
    "    # Handle any Kafka errors\n",
    "    print(f\"Failed to create topic: {e}\")\n",
    "finally:\n",
    "    # Close the admin client to release resources\n",
    "    admin_client.close()\n"
   ],
   "id": "b32b9df72cfc5704",
   "outputs": [],
   "execution_count": null
  },
  {
   "metadata": {},
   "cell_type": "code",
   "source": [
    "from kafka import KafkaConsumer\n",
    "\n",
    "consumer = KafkaConsumer(\n",
    "    'test-topic',\n",
    "    bootstrap_servers='kafka.example.internal:9092',\n",
    "    auto_offset_reset='earliest'\n",
    ")\n",
    "\n",
    "for message in consumer:\n",
    "    print(f\"Consumed: {message.value.decode('utf-8')}\")\n"
   ],
   "id": "232d454d712b9750",
   "outputs": [],
   "execution_count": null
  },
  {
   "metadata": {},
   "cell_type": "code",
   "source": "",
   "id": "bb26801952f2f6a1",
   "outputs": [],
   "execution_count": null
  }
 ],
 "metadata": {
  "kernelspec": {
   "display_name": "Python 3",
   "language": "python",
   "name": "python3"
  },
  "language_info": {
   "codemirror_mode": {
    "name": "ipython",
    "version": 2
   },
   "file_extension": "[REDACTED]/.py",
   "mimetype": "text/x-python",
   "name": "python",
   "nbconvert_exporter": "python",
   "pygments_lexer": "ipython2",
   "version": "2.7.6"
  }
 },
 "nbformat": 4,
 "nbformat_minor": 5
}
