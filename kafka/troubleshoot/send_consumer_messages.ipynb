{
 "cells": [
  {
   "cell_type": "code",
   "id": "initial_id",
   "metadata": {
    "collapsed": true
   },
   "source": [
    "import requests\n",
    "import json"
   ],
   "outputs": [],
   "execution_count": null
  },
  {
   "metadata": {},
   "cell_type": "code",
   "source": [
    "\n",
    "data = {\n",
    "    \"topic\":\"test-topic\",\n",
    "    \"data\":\"first try!\"\n",
    "}\n",
    "\n",
    "resp = requests.request(\n",
    "    method=\"POST\",\n",
    "    url=\"http://example-example:8000/send-data\",\n",
    "    data=json.dumps(data)\n",
    ")"
   ],
   "id": "6908a5d5d74d51ed",
   "outputs": [],
   "execution_count": null
  },
  {
   "metadata": {},
   "cell_type": "code",
   "source": "",
   "id": "f22893ee0b23b9f9",
   "outputs": [],
   "execution_count": null
  },
  {
   "metadata": {},
   "cell_type": "code",
   "source": [
    "hex_string = \"7B22746F706963223A2022746573742D746F706963222C202264617461223A207B22746F706963223A2022746573742D746F706963222C202264617461223A2022326E642074727921227D7D\"  # Replace with your hex string\n",
    "decoded_message = bytes.fromhex(hex_string).decode('utf-8')\n",
    "print(decoded_message)\n"
   ],
   "id": "b12ae9719b8885a4",
   "outputs": [],
   "execution_count": null
  },
  {
   "metadata": {},
   "cell_type": "code",
   "source": [
    "from kafka import KafkaConsumer\n",
    "\n",
    "consumer = KafkaConsumer(\n",
    "    'test-topic',\n",
    "    bootstrap_servers='kafka.example.internal:9092',\n",
    "    auto_offset_reset='earliest',\n",
    "    group_id='test-group',\n",
    ")\n",
    "\n",
    "for message in consumer:\n",
    "    print(f\"Raw message (hex): {message.value}\")  # Print the raw hex message\n",
    "\n",
    "    # Try decoding the message\n",
    "    try:\n",
    "        decoded_message = message.value.decode('utf-8')\n",
    "        print(f\"Decoded message: {decoded_message}\")\n",
    "    except UnicodeDecodeError:\n",
    "        print(\"Unable to decode message.\")\n"
   ],
   "id": "eba27afac78ba792",
   "outputs": [],
   "execution_count": null
  },
  {
   "metadata": {},
   "cell_type": "code",
   "source": [
    "from kafka import KafkaConsumer\n",
    "import json\n",
    "\n",
    "# Initialize Kafka Consumer\n",
    "consumer = KafkaConsumer(\n",
    "    'test-topic',  # Topic to consume messages from\n",
    "    bootstrap_servers='kafka.example.internal:9092',  # Kafka broker address\n",
    "    auto_offset_reset='earliest',  # Start from the earliest message if no offset is found\n",
    "    group_id='test-group',  # Consumer group ID\n",
    "    enable_auto_commit=True,  # Enable auto-commit\n",
    "    value_deserializer=lambda m: json.loads(m.decode('utf-8'))  # Deserialize JSON messages\n",
    ")\n",
    "\n",
    "print(\"Consumer is ready to consume messages...\")\n",
    "\n",
    "try:\n",
    "    # Poll for messages (you can adjust timeout_ms if needed)\n",
    "    messages = consumer.poll(timeout_ms=5000)  # Poll for new messages for 5 seconds\n",
    "\n",
    "    if messages:\n",
    "        print(\"Messages found!\")\n",
    "        for topic_partition, records in messages.items():\n",
    "            for record in records:\n",
    "                print(f\"Consumed message: {record.value}\")  # Print the decoded message\n",
    "    else:\n",
    "        print(\"No new messages found, retrying...\")  # No new messages, will retry after 5 seconds\n",
    "\n",
    "except Exception as e:\n",
    "    print(f\"Error while consuming: {e}\")\n",
    "finally:\n",
    "    consumer.close()  # Close the consumer connection when done\n"
   ],
   "id": "fcb823e136a2605",
   "outputs": [],
   "execution_count": null
  },
  {
   "metadata": {},
   "cell_type": "code",
   "source": [
    "from kafka import KafkaConsumer\n",
    "import json\n",
    "\n",
    "consumer = KafkaConsumer(\n",
    "    'test-topic',\n",
    "    bootstrap_servers='kafka.example.internal:9092',  # or broker2.example.internal:9093\n",
    "    group_id='test-group',\n",
    "    auto_offset_reset='earliest',\n",
    "    value_deserializer=lambda m: json.loads(m.decode('utf-8'))\n",
    ")\n",
    "\n",
    "for message in consumer:\n",
    "    print(f\"Consumed: {message.value.decode('utf-8')}\")\n"
   ],
   "id": "cffd73289ec33cb6",
   "outputs": [],
   "execution_count": null
  },
  {
   "metadata": {},
   "cell_type": "code",
   "source": "",
   "id": "6258615ab1a8574e",
   "outputs": [],
   "execution_count": null
  }
 ],
 "metadata": {
  "kernelspec": {
   "display_name": "Python 3",
   "language": "python",
   "name": "python3"
  },
  "language_info": {
   "codemirror_mode": {
    "name": "ipython",
    "version": 2
   },
   "file_extension": "[REDACTED]/.py",
   "mimetype": "text/x-python",
   "name": "python",
   "nbconvert_exporter": "python",
   "pygments_lexer": "ipython2",
   "version": "2.7.6"
  }
 },
 "nbformat": 4,
 "nbformat_minor": 5
}
